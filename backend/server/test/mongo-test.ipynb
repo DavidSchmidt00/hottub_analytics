{
 "cells": [
  {
   "cell_type": "code",
   "execution_count": 18,
   "metadata": {
    "collapsed": true
   },
   "outputs": [],
   "source": [
    "import datetime\n",
    "from pymongo import MongoClient\n",
    "import json\n",
    "from bson import json_util"
   ]
  },
  {
   "cell_type": "code",
   "execution_count": 5,
   "outputs": [],
   "source": [
    "client = MongoClient('mongodb://localhost:27017/')\n",
    "temp = client.badefass.temperature"
   ],
   "metadata": {
    "collapsed": false,
    "pycharm": {
     "name": "#%%\n"
    }
   }
  },
  {
   "cell_type": "code",
   "execution_count": 21,
   "outputs": [
    {
     "name": "stdout",
     "output_type": "stream",
     "text": [
      "{\"_id\": {\"$oid\": \"5fae83c2d22608126a34a268\"}, \"water_temp\": 2.0, \"outside_temp\": 9.58, \"time\": {\"$date\": 1605272514536}}\n",
      "{\"_id\": {\"$oid\": \"5fae84c4d22608126a34a26a\"}, \"water_temp\": 10.0, \"outside_temp\": 9.35, \"time\": {\"$date\": 1605272772418}}\n"
     ]
    }
   ],
   "source": [
    "for res in temp.find({\"time\": {\"$gt\": datetime.datetime.utcnow()-datetime.timedelta(hours=5)}}):\n",
    "    print(json.dumps(res, default=json_util.default))"
   ],
   "metadata": {
    "collapsed": false,
    "pycharm": {
     "name": "#%%\n"
    }
   }
  },
  {
   "cell_type": "code",
   "execution_count": null,
   "outputs": [],
   "source": [],
   "metadata": {
    "collapsed": false,
    "pycharm": {
     "name": "#%%\n"
    }
   }
  }
 ],
 "metadata": {
  "kernelspec": {
   "display_name": "Python 3",
   "language": "python",
   "name": "python3"
  },
  "language_info": {
   "codemirror_mode": {
    "name": "ipython",
    "version": 2
   },
   "file_extension": ".py",
   "mimetype": "text/x-python",
   "name": "python",
   "nbconvert_exporter": "python",
   "pygments_lexer": "ipython2",
   "version": "2.7.6"
  }
 },
 "nbformat": 4,
 "nbformat_minor": 0
}